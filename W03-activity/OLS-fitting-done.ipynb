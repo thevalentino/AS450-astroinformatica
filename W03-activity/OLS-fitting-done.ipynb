{
 "cells": [
  {
   "cell_type": "markdown",
   "id": "a39f1438",
   "metadata": {},
   "source": [
    "# Color-Magnitude diagram\n",
    "\n",
    "We will be fitting a polynomial to the color-magnitude relation for the stars in the Pleiades cluster.\n",
    "\n",
    "In this activity we will stick to Ordinary Least Squares fitting but you should use this notebook to explore other options."
   ]
  },
  {
   "cell_type": "code",
   "execution_count": 1,
   "id": "e0c814e7",
   "metadata": {},
   "outputs": [],
   "source": [
    "import numpy as np\n",
    "import matplotlib.pyplot as plt\n",
    "import pandas as pd"
   ]
  },
  {
   "cell_type": "markdown",
   "id": "428fd349",
   "metadata": {},
   "source": [
    "## 1. Read the data in `pleiadesdata.csv`."
   ]
  },
  {
   "cell_type": "code",
   "execution_count": 2,
   "id": "eeb59039",
   "metadata": {},
   "outputs": [],
   "source": [
    "data = pd.read_csv('pleiadesdata.csv', skiprows=5, \n",
    "                   names=['id', 'V', 'B', 'B-V', 'Vmag', 'VMag', 'm-M'])"
   ]
  },
  {
   "cell_type": "code",
   "execution_count": 3,
   "id": "a9a9b667",
   "metadata": {},
   "outputs": [
    {
     "data": {
      "text/html": [
       "<div>\n",
       "<style scoped>\n",
       "    .dataframe tbody tr th:only-of-type {\n",
       "        vertical-align: middle;\n",
       "    }\n",
       "\n",
       "    .dataframe tbody tr th {\n",
       "        vertical-align: top;\n",
       "    }\n",
       "\n",
       "    .dataframe thead th {\n",
       "        text-align: right;\n",
       "    }\n",
       "</style>\n",
       "<table border=\"1\" class=\"dataframe\">\n",
       "  <thead>\n",
       "    <tr style=\"text-align: right;\">\n",
       "      <th></th>\n",
       "      <th>id</th>\n",
       "      <th>V</th>\n",
       "      <th>B</th>\n",
       "      <th>B-V</th>\n",
       "      <th>Vmag</th>\n",
       "      <th>VMag</th>\n",
       "      <th>m-M</th>\n",
       "    </tr>\n",
       "  </thead>\n",
       "  <tbody>\n",
       "    <tr>\n",
       "      <th>0</th>\n",
       "      <td>1</td>\n",
       "      <td>10.44</td>\n",
       "      <td>11.06</td>\n",
       "      <td>0.62</td>\n",
       "      <td>10.44</td>\n",
       "      <td>NaN</td>\n",
       "      <td>NaN</td>\n",
       "    </tr>\n",
       "    <tr>\n",
       "      <th>1</th>\n",
       "      <td>2</td>\n",
       "      <td>7.52</td>\n",
       "      <td>7.62</td>\n",
       "      <td>0.10</td>\n",
       "      <td>7.52</td>\n",
       "      <td>NaN</td>\n",
       "      <td>NaN</td>\n",
       "    </tr>\n",
       "    <tr>\n",
       "      <th>2</th>\n",
       "      <td>3</td>\n",
       "      <td>6.60</td>\n",
       "      <td>6.57</td>\n",
       "      <td>-0.03</td>\n",
       "      <td>6.60</td>\n",
       "      <td>NaN</td>\n",
       "      <td>NaN</td>\n",
       "    </tr>\n",
       "    <tr>\n",
       "      <th>3</th>\n",
       "      <td>4</td>\n",
       "      <td>7.97</td>\n",
       "      <td>8.15</td>\n",
       "      <td>0.18</td>\n",
       "      <td>7.97</td>\n",
       "      <td>NaN</td>\n",
       "      <td>NaN</td>\n",
       "    </tr>\n",
       "    <tr>\n",
       "      <th>4</th>\n",
       "      <td>5</td>\n",
       "      <td>5.09</td>\n",
       "      <td>5.01</td>\n",
       "      <td>-0.08</td>\n",
       "      <td>5.09</td>\n",
       "      <td>NaN</td>\n",
       "      <td>NaN</td>\n",
       "    </tr>\n",
       "    <tr>\n",
       "      <th>5</th>\n",
       "      <td>6</td>\n",
       "      <td>3.64</td>\n",
       "      <td>3.56</td>\n",
       "      <td>-0.08</td>\n",
       "      <td>3.64</td>\n",
       "      <td>NaN</td>\n",
       "      <td>NaN</td>\n",
       "    </tr>\n",
       "    <tr>\n",
       "      <th>6</th>\n",
       "      <td>7</td>\n",
       "      <td>8.12</td>\n",
       "      <td>8.34</td>\n",
       "      <td>0.22</td>\n",
       "      <td>8.12</td>\n",
       "      <td>NaN</td>\n",
       "      <td>NaN</td>\n",
       "    </tr>\n",
       "    <tr>\n",
       "      <th>7</th>\n",
       "      <td>8</td>\n",
       "      <td>11.35</td>\n",
       "      <td>12.13</td>\n",
       "      <td>0.78</td>\n",
       "      <td>11.35</td>\n",
       "      <td>NaN</td>\n",
       "      <td>NaN</td>\n",
       "    </tr>\n",
       "    <tr>\n",
       "      <th>8</th>\n",
       "      <td>9</td>\n",
       "      <td>6.95</td>\n",
       "      <td>7.07</td>\n",
       "      <td>0.12</td>\n",
       "      <td>6.95</td>\n",
       "      <td>NaN</td>\n",
       "      <td>NaN</td>\n",
       "    </tr>\n",
       "    <tr>\n",
       "      <th>9</th>\n",
       "      <td>10</td>\n",
       "      <td>10.91</td>\n",
       "      <td>11.77</td>\n",
       "      <td>0.86</td>\n",
       "      <td>10.91</td>\n",
       "      <td>NaN</td>\n",
       "      <td>NaN</td>\n",
       "    </tr>\n",
       "    <tr>\n",
       "      <th>10</th>\n",
       "      <td>11</td>\n",
       "      <td>9.05</td>\n",
       "      <td>9.54</td>\n",
       "      <td>0.49</td>\n",
       "      <td>9.05</td>\n",
       "      <td>NaN</td>\n",
       "      <td>NaN</td>\n",
       "    </tr>\n",
       "    <tr>\n",
       "      <th>11</th>\n",
       "      <td>12</td>\n",
       "      <td>10.02</td>\n",
       "      <td>10.58</td>\n",
       "      <td>0.56</td>\n",
       "      <td>10.02</td>\n",
       "      <td>NaN</td>\n",
       "      <td>NaN</td>\n",
       "    </tr>\n",
       "    <tr>\n",
       "      <th>12</th>\n",
       "      <td>13</td>\n",
       "      <td>8.27</td>\n",
       "      <td>8.63</td>\n",
       "      <td>0.36</td>\n",
       "      <td>8.27</td>\n",
       "      <td>NaN</td>\n",
       "      <td>NaN</td>\n",
       "    </tr>\n",
       "    <tr>\n",
       "      <th>13</th>\n",
       "      <td>14</td>\n",
       "      <td>9.25</td>\n",
       "      <td>9.80</td>\n",
       "      <td>0.55</td>\n",
       "      <td>9.25</td>\n",
       "      <td>NaN</td>\n",
       "      <td>NaN</td>\n",
       "    </tr>\n",
       "    <tr>\n",
       "      <th>14</th>\n",
       "      <td>15</td>\n",
       "      <td>9.88</td>\n",
       "      <td>10.42</td>\n",
       "      <td>0.54</td>\n",
       "      <td>9.88</td>\n",
       "      <td>NaN</td>\n",
       "      <td>NaN</td>\n",
       "    </tr>\n",
       "    <tr>\n",
       "      <th>15</th>\n",
       "      <td>16</td>\n",
       "      <td>7.66</td>\n",
       "      <td>7.87</td>\n",
       "      <td>0.21</td>\n",
       "      <td>7.66</td>\n",
       "      <td>NaN</td>\n",
       "      <td>NaN</td>\n",
       "    </tr>\n",
       "    <tr>\n",
       "      <th>16</th>\n",
       "      <td>17</td>\n",
       "      <td>10.48</td>\n",
       "      <td>11.12</td>\n",
       "      <td>0.64</td>\n",
       "      <td>10.48</td>\n",
       "      <td>NaN</td>\n",
       "      <td>NaN</td>\n",
       "    </tr>\n",
       "    <tr>\n",
       "      <th>17</th>\n",
       "      <td>18</td>\n",
       "      <td>6.81</td>\n",
       "      <td>6.87</td>\n",
       "      <td>0.06</td>\n",
       "      <td>6.81</td>\n",
       "      <td>NaN</td>\n",
       "      <td>NaN</td>\n",
       "    </tr>\n",
       "    <tr>\n",
       "      <th>18</th>\n",
       "      <td>19</td>\n",
       "      <td>2.87</td>\n",
       "      <td>2.78</td>\n",
       "      <td>-0.09</td>\n",
       "      <td>2.87</td>\n",
       "      <td>NaN</td>\n",
       "      <td>NaN</td>\n",
       "    </tr>\n",
       "    <tr>\n",
       "      <th>19</th>\n",
       "      <td>20</td>\n",
       "      <td>6.29</td>\n",
       "      <td>6.31</td>\n",
       "      <td>0.02</td>\n",
       "      <td>6.29</td>\n",
       "      <td>NaN</td>\n",
       "      <td>NaN</td>\n",
       "    </tr>\n",
       "    <tr>\n",
       "      <th>20</th>\n",
       "      <td>21</td>\n",
       "      <td>8.25</td>\n",
       "      <td>8.51</td>\n",
       "      <td>0.26</td>\n",
       "      <td>8.25</td>\n",
       "      <td>NaN</td>\n",
       "      <td>NaN</td>\n",
       "    </tr>\n",
       "    <tr>\n",
       "      <th>21</th>\n",
       "      <td>22</td>\n",
       "      <td>8.69</td>\n",
       "      <td>9.15</td>\n",
       "      <td>0.46</td>\n",
       "      <td>8.69</td>\n",
       "      <td>NaN</td>\n",
       "      <td>NaN</td>\n",
       "    </tr>\n",
       "    <tr>\n",
       "      <th>22</th>\n",
       "      <td>23</td>\n",
       "      <td>7.26</td>\n",
       "      <td>7.31</td>\n",
       "      <td>0.05</td>\n",
       "      <td>7.26</td>\n",
       "      <td>NaN</td>\n",
       "      <td>NaN</td>\n",
       "    </tr>\n",
       "    <tr>\n",
       "      <th>23</th>\n",
       "      <td>24</td>\n",
       "      <td>6.99</td>\n",
       "      <td>7.02</td>\n",
       "      <td>0.03</td>\n",
       "      <td>6.99</td>\n",
       "      <td>NaN</td>\n",
       "      <td>NaN</td>\n",
       "    </tr>\n",
       "    <tr>\n",
       "      <th>24</th>\n",
       "      <td>25</td>\n",
       "      <td>6.82</td>\n",
       "      <td>6.84</td>\n",
       "      <td>0.02</td>\n",
       "      <td>6.82</td>\n",
       "      <td>NaN</td>\n",
       "      <td>NaN</td>\n",
       "    </tr>\n",
       "    <tr>\n",
       "      <th>25</th>\n",
       "      <td>26</td>\n",
       "      <td>12.61</td>\n",
       "      <td>13.79</td>\n",
       "      <td>1.18</td>\n",
       "      <td>12.61</td>\n",
       "      <td>NaN</td>\n",
       "      <td>NaN</td>\n",
       "    </tr>\n",
       "    <tr>\n",
       "      <th>26</th>\n",
       "      <td>27</td>\n",
       "      <td>9.46</td>\n",
       "      <td>9.93</td>\n",
       "      <td>0.47</td>\n",
       "      <td>9.46</td>\n",
       "      <td>NaN</td>\n",
       "      <td>NaN</td>\n",
       "    </tr>\n",
       "    <tr>\n",
       "      <th>27</th>\n",
       "      <td>28</td>\n",
       "      <td>8.37</td>\n",
       "      <td>8.67</td>\n",
       "      <td>0.30</td>\n",
       "      <td>8.37</td>\n",
       "      <td>NaN</td>\n",
       "      <td>NaN</td>\n",
       "    </tr>\n",
       "    <tr>\n",
       "      <th>28</th>\n",
       "      <td>29</td>\n",
       "      <td>9.29</td>\n",
       "      <td>9.75</td>\n",
       "      <td>0.46</td>\n",
       "      <td>9.29</td>\n",
       "      <td>NaN</td>\n",
       "      <td>NaN</td>\n",
       "    </tr>\n",
       "    <tr>\n",
       "      <th>29</th>\n",
       "      <td>30</td>\n",
       "      <td>12.12</td>\n",
       "      <td>13.14</td>\n",
       "      <td>1.02</td>\n",
       "      <td>12.12</td>\n",
       "      <td>NaN</td>\n",
       "      <td>NaN</td>\n",
       "    </tr>\n",
       "    <tr>\n",
       "      <th>30</th>\n",
       "      <td>31</td>\n",
       "      <td>11.71</td>\n",
       "      <td>12.58</td>\n",
       "      <td>0.87</td>\n",
       "      <td>11.71</td>\n",
       "      <td>NaN</td>\n",
       "      <td>NaN</td>\n",
       "    </tr>\n",
       "    <tr>\n",
       "      <th>31</th>\n",
       "      <td>32</td>\n",
       "      <td>10.42</td>\n",
       "      <td>11.06</td>\n",
       "      <td>0.64</td>\n",
       "      <td>10.42</td>\n",
       "      <td>NaN</td>\n",
       "      <td>NaN</td>\n",
       "    </tr>\n",
       "    <tr>\n",
       "      <th>32</th>\n",
       "      <td>33</td>\n",
       "      <td>11.34</td>\n",
       "      <td>12.20</td>\n",
       "      <td>0.86</td>\n",
       "      <td>11.34</td>\n",
       "      <td>NaN</td>\n",
       "      <td>NaN</td>\n",
       "    </tr>\n",
       "    <tr>\n",
       "      <th>33</th>\n",
       "      <td>34</td>\n",
       "      <td>12.89</td>\n",
       "      <td>13.68</td>\n",
       "      <td>0.79</td>\n",
       "      <td>12.89</td>\n",
       "      <td>NaN</td>\n",
       "      <td>NaN</td>\n",
       "    </tr>\n",
       "    <tr>\n",
       "      <th>34</th>\n",
       "      <td>35</td>\n",
       "      <td>7.35</td>\n",
       "      <td>7.45</td>\n",
       "      <td>0.10</td>\n",
       "      <td>7.35</td>\n",
       "      <td>NaN</td>\n",
       "      <td>NaN</td>\n",
       "    </tr>\n",
       "    <tr>\n",
       "      <th>35</th>\n",
       "      <td>36</td>\n",
       "      <td>7.96</td>\n",
       "      <td>8.28</td>\n",
       "      <td>0.32</td>\n",
       "      <td>7.96</td>\n",
       "      <td>NaN</td>\n",
       "      <td>NaN</td>\n",
       "    </tr>\n",
       "    <tr>\n",
       "      <th>36</th>\n",
       "      <td>37</td>\n",
       "      <td>4.18</td>\n",
       "      <td>4.12</td>\n",
       "      <td>-0.06</td>\n",
       "      <td>4.18</td>\n",
       "      <td>NaN</td>\n",
       "      <td>NaN</td>\n",
       "    </tr>\n",
       "    <tr>\n",
       "      <th>37</th>\n",
       "      <td>38</td>\n",
       "      <td>9.70</td>\n",
       "      <td>10.25</td>\n",
       "      <td>0.55</td>\n",
       "      <td>9.70</td>\n",
       "      <td>NaN</td>\n",
       "      <td>NaN</td>\n",
       "    </tr>\n",
       "    <tr>\n",
       "      <th>38</th>\n",
       "      <td>39</td>\n",
       "      <td>5.76</td>\n",
       "      <td>5.72</td>\n",
       "      <td>-0.04</td>\n",
       "      <td>5.76</td>\n",
       "      <td>NaN</td>\n",
       "      <td>NaN</td>\n",
       "    </tr>\n",
       "    <tr>\n",
       "      <th>39</th>\n",
       "      <td>40</td>\n",
       "      <td>6.43</td>\n",
       "      <td>6.41</td>\n",
       "      <td>-0.02</td>\n",
       "      <td>6.43</td>\n",
       "      <td>NaN</td>\n",
       "      <td>NaN</td>\n",
       "    </tr>\n",
       "    <tr>\n",
       "      <th>40</th>\n",
       "      <td>41</td>\n",
       "      <td>8.60</td>\n",
       "      <td>8.95</td>\n",
       "      <td>0.35</td>\n",
       "      <td>8.60</td>\n",
       "      <td>NaN</td>\n",
       "      <td>NaN</td>\n",
       "    </tr>\n",
       "    <tr>\n",
       "      <th>41</th>\n",
       "      <td>42</td>\n",
       "      <td>11.27</td>\n",
       "      <td>12.19</td>\n",
       "      <td>0.92</td>\n",
       "      <td>11.27</td>\n",
       "      <td>NaN</td>\n",
       "      <td>NaN</td>\n",
       "    </tr>\n",
       "    <tr>\n",
       "      <th>42</th>\n",
       "      <td>43</td>\n",
       "      <td>3.88</td>\n",
       "      <td>3.81</td>\n",
       "      <td>-0.07</td>\n",
       "      <td>3.88</td>\n",
       "      <td>NaN</td>\n",
       "      <td>NaN</td>\n",
       "    </tr>\n",
       "    <tr>\n",
       "      <th>43</th>\n",
       "      <td>44</td>\n",
       "      <td>7.18</td>\n",
       "      <td>7.34</td>\n",
       "      <td>0.16</td>\n",
       "      <td>7.18</td>\n",
       "      <td>NaN</td>\n",
       "      <td>NaN</td>\n",
       "    </tr>\n",
       "    <tr>\n",
       "      <th>44</th>\n",
       "      <td>45</td>\n",
       "      <td>9.45</td>\n",
       "      <td>9.97</td>\n",
       "      <td>0.52</td>\n",
       "      <td>9.45</td>\n",
       "      <td>NaN</td>\n",
       "      <td>NaN</td>\n",
       "    </tr>\n",
       "    <tr>\n",
       "      <th>45</th>\n",
       "      <td>46</td>\n",
       "      <td>10.55</td>\n",
       "      <td>11.22</td>\n",
       "      <td>0.67</td>\n",
       "      <td>10.55</td>\n",
       "      <td>NaN</td>\n",
       "      <td>NaN</td>\n",
       "    </tr>\n",
       "    <tr>\n",
       "      <th>46</th>\n",
       "      <td>47</td>\n",
       "      <td>10.13</td>\n",
       "      <td>10.75</td>\n",
       "      <td>0.62</td>\n",
       "      <td>10.13</td>\n",
       "      <td>NaN</td>\n",
       "      <td>NaN</td>\n",
       "    </tr>\n",
       "    <tr>\n",
       "      <th>47</th>\n",
       "      <td>48</td>\n",
       "      <td>8.04</td>\n",
       "      <td>8.25</td>\n",
       "      <td>0.21</td>\n",
       "      <td>8.04</td>\n",
       "      <td>NaN</td>\n",
       "      <td>NaN</td>\n",
       "    </tr>\n",
       "    <tr>\n",
       "      <th>48</th>\n",
       "      <td>49</td>\n",
       "      <td>7.85</td>\n",
       "      <td>8.05</td>\n",
       "      <td>0.20</td>\n",
       "      <td>7.85</td>\n",
       "      <td>NaN</td>\n",
       "      <td>NaN</td>\n",
       "    </tr>\n",
       "    <tr>\n",
       "      <th>49</th>\n",
       "      <td>50</td>\n",
       "      <td>4.31</td>\n",
       "      <td>4.20</td>\n",
       "      <td>-0.11</td>\n",
       "      <td>4.31</td>\n",
       "      <td>NaN</td>\n",
       "      <td>NaN</td>\n",
       "    </tr>\n",
       "    <tr>\n",
       "      <th>50</th>\n",
       "      <td>51</td>\n",
       "      <td>10.39</td>\n",
       "      <td>11.02</td>\n",
       "      <td>0.63</td>\n",
       "      <td>10.39</td>\n",
       "      <td>NaN</td>\n",
       "      <td>NaN</td>\n",
       "    </tr>\n",
       "    <tr>\n",
       "      <th>51</th>\n",
       "      <td>52</td>\n",
       "      <td>5.46</td>\n",
       "      <td>5.42</td>\n",
       "      <td>-0.04</td>\n",
       "      <td>5.46</td>\n",
       "      <td>NaN</td>\n",
       "      <td>NaN</td>\n",
       "    </tr>\n",
       "    <tr>\n",
       "      <th>52</th>\n",
       "      <td>53</td>\n",
       "      <td>8.58</td>\n",
       "      <td>8.92</td>\n",
       "      <td>0.34</td>\n",
       "      <td>8.58</td>\n",
       "      <td>NaN</td>\n",
       "      <td>NaN</td>\n",
       "    </tr>\n",
       "    <tr>\n",
       "      <th>53</th>\n",
       "      <td>54</td>\n",
       "      <td>11.40</td>\n",
       "      <td>12.25</td>\n",
       "      <td>0.85</td>\n",
       "      <td>11.40</td>\n",
       "      <td>NaN</td>\n",
       "      <td>NaN</td>\n",
       "    </tr>\n",
       "    <tr>\n",
       "      <th>54</th>\n",
       "      <td>55</td>\n",
       "      <td>3.71</td>\n",
       "      <td>3.60</td>\n",
       "      <td>-0.11</td>\n",
       "      <td>3.71</td>\n",
       "      <td>NaN</td>\n",
       "      <td>NaN</td>\n",
       "    </tr>\n",
       "    <tr>\n",
       "      <th>55</th>\n",
       "      <td>56</td>\n",
       "      <td>10.81</td>\n",
       "      <td>11.61</td>\n",
       "      <td>0.80</td>\n",
       "      <td>10.81</td>\n",
       "      <td>NaN</td>\n",
       "      <td>NaN</td>\n",
       "    </tr>\n",
       "    <tr>\n",
       "      <th>56</th>\n",
       "      <td>57</td>\n",
       "      <td>11.93</td>\n",
       "      <td>12.87</td>\n",
       "      <td>0.94</td>\n",
       "      <td>11.93</td>\n",
       "      <td>NaN</td>\n",
       "      <td>NaN</td>\n",
       "    </tr>\n",
       "  </tbody>\n",
       "</table>\n",
       "</div>"
      ],
      "text/plain": [
       "    id      V      B   B-V   Vmag  VMag  m-M\n",
       "0    1  10.44  11.06  0.62  10.44   NaN  NaN\n",
       "1    2   7.52   7.62  0.10   7.52   NaN  NaN\n",
       "2    3   6.60   6.57 -0.03   6.60   NaN  NaN\n",
       "3    4   7.97   8.15  0.18   7.97   NaN  NaN\n",
       "4    5   5.09   5.01 -0.08   5.09   NaN  NaN\n",
       "5    6   3.64   3.56 -0.08   3.64   NaN  NaN\n",
       "6    7   8.12   8.34  0.22   8.12   NaN  NaN\n",
       "7    8  11.35  12.13  0.78  11.35   NaN  NaN\n",
       "8    9   6.95   7.07  0.12   6.95   NaN  NaN\n",
       "9   10  10.91  11.77  0.86  10.91   NaN  NaN\n",
       "10  11   9.05   9.54  0.49   9.05   NaN  NaN\n",
       "11  12  10.02  10.58  0.56  10.02   NaN  NaN\n",
       "12  13   8.27   8.63  0.36   8.27   NaN  NaN\n",
       "13  14   9.25   9.80  0.55   9.25   NaN  NaN\n",
       "14  15   9.88  10.42  0.54   9.88   NaN  NaN\n",
       "15  16   7.66   7.87  0.21   7.66   NaN  NaN\n",
       "16  17  10.48  11.12  0.64  10.48   NaN  NaN\n",
       "17  18   6.81   6.87  0.06   6.81   NaN  NaN\n",
       "18  19   2.87   2.78 -0.09   2.87   NaN  NaN\n",
       "19  20   6.29   6.31  0.02   6.29   NaN  NaN\n",
       "20  21   8.25   8.51  0.26   8.25   NaN  NaN\n",
       "21  22   8.69   9.15  0.46   8.69   NaN  NaN\n",
       "22  23   7.26   7.31  0.05   7.26   NaN  NaN\n",
       "23  24   6.99   7.02  0.03   6.99   NaN  NaN\n",
       "24  25   6.82   6.84  0.02   6.82   NaN  NaN\n",
       "25  26  12.61  13.79  1.18  12.61   NaN  NaN\n",
       "26  27   9.46   9.93  0.47   9.46   NaN  NaN\n",
       "27  28   8.37   8.67  0.30   8.37   NaN  NaN\n",
       "28  29   9.29   9.75  0.46   9.29   NaN  NaN\n",
       "29  30  12.12  13.14  1.02  12.12   NaN  NaN\n",
       "30  31  11.71  12.58  0.87  11.71   NaN  NaN\n",
       "31  32  10.42  11.06  0.64  10.42   NaN  NaN\n",
       "32  33  11.34  12.20  0.86  11.34   NaN  NaN\n",
       "33  34  12.89  13.68  0.79  12.89   NaN  NaN\n",
       "34  35   7.35   7.45  0.10   7.35   NaN  NaN\n",
       "35  36   7.96   8.28  0.32   7.96   NaN  NaN\n",
       "36  37   4.18   4.12 -0.06   4.18   NaN  NaN\n",
       "37  38   9.70  10.25  0.55   9.70   NaN  NaN\n",
       "38  39   5.76   5.72 -0.04   5.76   NaN  NaN\n",
       "39  40   6.43   6.41 -0.02   6.43   NaN  NaN\n",
       "40  41   8.60   8.95  0.35   8.60   NaN  NaN\n",
       "41  42  11.27  12.19  0.92  11.27   NaN  NaN\n",
       "42  43   3.88   3.81 -0.07   3.88   NaN  NaN\n",
       "43  44   7.18   7.34  0.16   7.18   NaN  NaN\n",
       "44  45   9.45   9.97  0.52   9.45   NaN  NaN\n",
       "45  46  10.55  11.22  0.67  10.55   NaN  NaN\n",
       "46  47  10.13  10.75  0.62  10.13   NaN  NaN\n",
       "47  48   8.04   8.25  0.21   8.04   NaN  NaN\n",
       "48  49   7.85   8.05  0.20   7.85   NaN  NaN\n",
       "49  50   4.31   4.20 -0.11   4.31   NaN  NaN\n",
       "50  51  10.39  11.02  0.63  10.39   NaN  NaN\n",
       "51  52   5.46   5.42 -0.04   5.46   NaN  NaN\n",
       "52  53   8.58   8.92  0.34   8.58   NaN  NaN\n",
       "53  54  11.40  12.25  0.85  11.40   NaN  NaN\n",
       "54  55   3.71   3.60 -0.11   3.71   NaN  NaN\n",
       "55  56  10.81  11.61  0.80  10.81   NaN  NaN\n",
       "56  57  11.93  12.87  0.94  11.93   NaN  NaN"
      ]
     },
     "execution_count": 3,
     "metadata": {},
     "output_type": "execute_result"
    }
   ],
   "source": [
    "data"
   ]
  },
  {
   "cell_type": "markdown",
   "id": "424869cf",
   "metadata": {},
   "source": [
    "## 2. Plot the `B-V` color vs. `V` magnitude\n",
    "\n",
    "Usually magnitude is plotted so that brighter goes on top and fainter at the bottom."
   ]
  },
  {
   "cell_type": "code",
   "execution_count": 10,
   "id": "af405192",
   "metadata": {},
   "outputs": [
    {
     "data": {
      "text/plain": [
       "(14.0, 2.0)"
      ]
     },
     "execution_count": 10,
     "metadata": {},
     "output_type": "execute_result"
    },
    {
     "data": {
      "image/png": "[encoded data removed]",
      "text/plain": [
       "<Figure size 432x288 with 1 Axes>"
      ]
     },
     "metadata": {
      "needs_background": "light"
     },
     "output_type": "display_data"
    }
   ],
   "source": [
    "# Complete here\n",
    "plt.plot(data['B-V'], data.V, 'bo')\n",
    "plt.ylim(14, 2)"
   ]
  },
  {
   "cell_type": "markdown",
   "id": "d6fb782b",
   "metadata": {},
   "source": [
    "## 3. Split the sample into a training and testing sub-set. Start by fitting a straight line to the data using ordinary least squares."
   ]
  },
  {
   "cell_type": "code",
   "execution_count": 11,
   "id": "f56995c1",
   "metadata": {},
   "outputs": [],
   "source": [
    "from sklearn.model_selection import train_test_split\n",
    "from sklearn import linear_model\n",
    "from sklearn.metrics import mean_squared_error"
   ]
  },
  {
   "cell_type": "markdown",
   "id": "44386f4e",
   "metadata": {},
   "source": [
    "Notice the reshaping done in the following step. It is necessary to use the linear models from sklearn."
   ]
  },
  {
   "cell_type": "code",
   "execution_count": 18,
   "id": "0852521a",
   "metadata": {},
   "outputs": [
    {
     "data": {
      "text/plain": [
       "(57, 1)"
      ]
     },
     "execution_count": 18,
     "metadata": {},
     "output_type": "execute_result"
    }
   ],
   "source": [
    "(data.V.to_numpy().reshape(-1, 1)).shape"
   ]
  },
  {
   "cell_type": "code",
   "execution_count": 12,
   "id": "dfc315da",
   "metadata": {},
   "outputs": [],
   "source": [
    "x = data['B-V'].to_numpy().reshape(-1, 1)\n",
    "y = data['V'].to_numpy().reshape(-1, 1)\n",
    "\n",
    "x_train, x_test, y_train, y_test = train_test_split(x, y, random_state=42)"
   ]
  },
  {
   "cell_type": "code",
   "execution_count": 20,
   "id": "60060b7b",
   "metadata": {},
   "outputs": [
    {
     "data": {
      "text/plain": [
       "(15, 1)"
      ]
     },
     "execution_count": 20,
     "metadata": {},
     "output_type": "execute_result"
    }
   ],
   "source": [
    "x_test.shape"
   ]
  },
  {
   "cell_type": "markdown",
   "id": "890c1347",
   "metadata": {},
   "source": [
    "Plot both the train and the test sample"
   ]
  },
  {
   "cell_type": "code",
   "execution_count": 24,
   "id": "662c7bd4",
   "metadata": {},
   "outputs": [
    {
     "data": {
      "text/plain": [
       "(14.0, 2.0)"
      ]
     },
     "execution_count": 24,
     "metadata": {},
     "output_type": "execute_result"
    },
    {
     "data": {
      "image/png": "[encoded data removed]",
      "text/plain": [
       "<Figure size 432x288 with 1 Axes>"
      ]
     },
     "metadata": {
      "needs_background": "light"
     },
     "output_type": "display_data"
    }
   ],
   "source": [
    "# complete here\n",
    "plt.plot(x_train, y_train, 'o')\n",
    "plt.plot(x_test, y_test, 'o')\n",
    "\n",
    "plt.ylim(14, 2)"
   ]
  },
  {
   "cell_type": "markdown",
   "id": "aa67d4c9",
   "metadata": {},
   "source": [
    "Now do the fit. Report the MSE for the train and the test."
   ]
  },
  {
   "cell_type": "code",
   "execution_count": 25,
   "id": "46ba05cb",
   "metadata": {},
   "outputs": [
    {
     "name": "stdout",
     "output_type": "stream",
     "text": [
      "Test MSE =  0.39227736654044426\n"
     ]
    }
   ],
   "source": [
    "ols1 = linear_model.LinearRegression()\n",
    "linear = ols1.fit(x_train, y_train)\n",
    "# print the Train MSE\n",
    "print(\"Test MSE = \", mean_squared_error(y_test, linear.predict(x_test)))"
   ]
  },
  {
   "cell_type": "markdown",
   "id": "8fa85290",
   "metadata": {},
   "source": [
    "Plot the train, test, and model."
   ]
  },
  {
   "cell_type": "code",
   "execution_count": 26,
   "id": "514acd8c",
   "metadata": {},
   "outputs": [
    {
     "data": {
      "text/plain": [
       "(14.0, 2.0)"
      ]
     },
     "execution_count": 26,
     "metadata": {},
     "output_type": "execute_result"
    },
    {
     "data": {
      "image/png": "[encoded data removed]",
      "text/plain": [
       "<Figure size 432x288 with 1 Axes>"
      ]
     },
     "metadata": {
      "needs_background": "light"
     },
     "output_type": "display_data"
    }
   ],
   "source": [
    "x_to_plot = np.linspace(-.2, 1.4, 20).reshape(-1, 1) # this will be useful to plot the model\n",
    "\n",
    "# complete the rest\n",
    "plt.plot(x_train, y_train, 'o')\n",
    "plt.plot(x_test, y_test, 'o')\n",
    "\n",
    "plt.plot(x_to_plot, linear.predict(x_to_plot))\n",
    "\n",
    "plt.ylim(14, 2)"
   ]
  },
  {
   "cell_type": "markdown",
   "id": "0caabfe0",
   "metadata": {},
   "source": [
    "## 4. Fit a 2nd order polynomial.\n",
    "\n",
    "Here it's recommended to use `PolynomialFeatures` to build the design matrix automatically."
   ]
  },
  {
   "cell_type": "code",
   "execution_count": 27,
   "id": "36d32661",
   "metadata": {},
   "outputs": [],
   "source": [
    "from sklearn.preprocessing import PolynomialFeatures"
   ]
  },
  {
   "cell_type": "markdown",
   "id": "6228de8e",
   "metadata": {},
   "source": [
    "The following cell transforms the train and test sets into the right design matrix"
   ]
  },
  {
   "cell_type": "code",
   "execution_count": 28,
   "id": "7003fc9a",
   "metadata": {},
   "outputs": [],
   "source": [
    "poly2 = PolynomialFeatures(degree=2)\n",
    "x_train_2 = poly2.fit_transform(x_train)\n",
    "x_test_2 = poly2.fit_transform(x_test)"
   ]
  },
  {
   "cell_type": "markdown",
   "id": "6352f815",
   "metadata": {},
   "source": [
    "Now we can fit the model just like before."
   ]
  },
  {
   "cell_type": "code",
   "execution_count": 39,
   "id": "c1b3b129",
   "metadata": {},
   "outputs": [
    {
     "name": "stdout",
     "output_type": "stream",
     "text": [
      "Test MSE =  0.256266691201303\n"
     ]
    }
   ],
   "source": [
    "# Complete here to fit the model\n",
    "ols2 = linear_model.LinearRegression()\n",
    "deg2 = ols2.fit(x_train_2, y_train)\n",
    "# print the Train MSE\n",
    "print(\"Test MSE = \", mean_squared_error(y_test, deg2.predict(x_test_2)))"
   ]
  },
  {
   "cell_type": "markdown",
   "id": "e7f85195",
   "metadata": {},
   "source": [
    "And now plot the data and the 2nd order model."
   ]
  },
  {
   "cell_type": "code",
   "execution_count": 43,
   "id": "642c2e18",
   "metadata": {},
   "outputs": [
    {
     "data": {
      "text/plain": [
       "(14.0, 2.0)"
      ]
     },
     "execution_count": 43,
     "metadata": {},
     "output_type": "execute_result"
    },
    {
     "data": {
      "image/png": "[encoded data removed]",
      "text/plain": [
       "<Figure size 432x288 with 1 Axes>"
      ]
     },
     "metadata": {
      "needs_background": "light"
     },
     "output_type": "display_data"
    }
   ],
   "source": [
    "x_to_plot_2 = poly2.fit_transform(x_to_plot)  # We need to transform this too, to be able to use predict\n",
    "\n",
    "plt.plot(x_train, y_train, 'o')\n",
    "plt.plot(x_test, y_test, 'o')\n",
    "\n",
    "plt.plot(x_to_plot, deg2.predict(x_to_plot_2))\n",
    "\n",
    "plt.ylim(14, 2)\n"
   ]
  },
  {
   "cell_type": "markdown",
   "id": "4c933e9e",
   "metadata": {},
   "source": [
    "## 5. Keep increasing the order and decide when to stop\n",
    "\n",
    "Write a function that does all the previous steps at once and returns the `mean_squared_errors` for the training sample and for the testing sample.\n",
    "\n",
    "Plot the MSE as a function of the degree of the polynomial for the training sample and for the testing sample."
   ]
  },
  {
   "cell_type": "code",
   "execution_count": 55,
   "id": "bae0bdeb",
   "metadata": {},
   "outputs": [],
   "source": [
    "def fit_model(degree, plot=True):\n",
    "    # Complete this funciton to make all the previous steps automatically.\n",
    "    poly = PolynomialFeatures(degree=degree)\n",
    "    x_train_d = poly.fit_transform(x_train)\n",
    "    x_test_d = poly.fit_transform(x_test)\n",
    "    ols = linear_model.LinearRegression()\n",
    "    deg = ols.fit(x_train_d, y_train)\n",
    "    \n",
    "    return (mean_squared_error(y_train, deg.predict(x_train_d)),\n",
    "            mean_squared_error(y_test, deg.predict(x_test_d)))"
   ]
  },
  {
   "cell_type": "markdown",
   "id": "1ac0af8c",
   "metadata": {},
   "source": [
    "Use the function to fit different degeree polynomials and store the MSE for the train and test datasets."
   ]
  },
  {
   "cell_type": "code",
   "execution_count": 56,
   "id": "58f455da",
   "metadata": {},
   "outputs": [],
   "source": [
    "# Complete here\n",
    "mse = np.zeros((9, 2))\n",
    "for i in range(9):\n",
    "    deg = i + 1\n",
    "    train, test = fit_model(deg, plot=False)\n",
    "    mse[i] = [train, test]"
   ]
  },
  {
   "cell_type": "markdown",
   "id": "609aeffa",
   "metadata": {},
   "source": [
    "Plot the MSEs previously calculated"
   ]
  },
  {
   "cell_type": "code",
   "execution_count": 58,
   "id": "8cd1448a",
   "metadata": {},
   "outputs": [
    {
     "data": {
      "text/plain": [
       "[<matplotlib.lines.Line2D at 0x13ee53820>]"
      ]
     },
     "execution_count": 58,
     "metadata": {},
     "output_type": "execute_result"
    },
    {
     "data": {
      "image/png": "[encoded data removed]",
      "text/plain": [
       "<Figure size 432x288 with 1 Axes>"
      ]
     },
     "metadata": {
      "needs_background": "light"
     },
     "output_type": "display_data"
    }
   ],
   "source": [
    "plt.plot(mse[:, 0])\n",
    "plt.plot(mse[:, 1])"
   ]
  },
  {
   "cell_type": "code",
   "execution_count": null,
   "id": "ab5b8249",
   "metadata": {},
   "outputs": [],
   "source": []
  }
 ],
 "metadata": {
  "kernelspec": {
   "display_name": "Python 3 (ipykernel)",
   "language": "python",
   "name": "python3"
  },
  "language_info": {
   "codemirror_mode": {
    "name": "ipython",
    "version": 3
   },
   "file_extension": ".py",
   "mimetype": "text/x-python",
   "name": "python",
   "nbconvert_exporter": "python",
   "pygments_lexer": "ipython3",
   "version": "3.8.13"
  }
 },
 "nbformat": 4,
 "nbformat_minor": 5
}
