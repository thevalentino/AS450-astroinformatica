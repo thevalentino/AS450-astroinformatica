{
 "cells": [
  {
   "cell_type": "markdown",
   "id": "0f4e1480",
   "metadata": {},
   "source": [
    "# Color-Magnitude diagram\n",
    "\n",
    "We will be fitting a polynomial to the color-magnitude relation for the stars in the Pleiades cluster.\n",
    "\n",
    "In this activity we will stick to Ordinary Least Squares fitting but you should use this notebook to explore other options."
   ]
  },
  {
   "cell_type": "code",
   "execution_count": 1,
   "id": "a4cd3c54",
   "metadata": {},
   "outputs": [],
   "source": [
    "import numpy as np\n",
    "import matplotlib.pyplot as plt\n",
    "import pandas as pd"
   ]
  },
  {
   "cell_type": "markdown",
   "id": "d38287d4",
   "metadata": {},
   "source": [
    "## 1. Read the data in `pleiadesdata.csv`."
   ]
  },
  {
   "cell_type": "code",
   "execution_count": 2,
   "id": "57a94bff",
   "metadata": {},
   "outputs": [],
   "source": [
    "data = pd.read_csv('pleiadesdata.csv', skiprows=5, \n",
    "                   names=['id', 'V', 'B', 'B-V', 'Vmag', 'VMag', 'm-M'])"
   ]
  },
  {
   "cell_type": "markdown",
   "id": "9b60d14b",
   "metadata": {},
   "source": [
    "## 2. Plot the `B-V` color vs. `V` magnitude\n",
    "\n",
    "Usually magnitude is plotted so that brighter goes on top and fainter at the bottom."
   ]
  },
  {
   "cell_type": "code",
   "execution_count": 3,
   "id": "b713a10b",
   "metadata": {},
   "outputs": [],
   "source": [
    "# Complete here"
   ]
  },
  {
   "cell_type": "markdown",
   "id": "06b3da2d",
   "metadata": {},
   "source": [
    "## 3. Split the sample into a training and testing sub-set. Start by fitting a straight line to the data using ordinary least squares."
   ]
  },
  {
   "cell_type": "code",
   "execution_count": 4,
   "id": "fcd2e048",
   "metadata": {},
   "outputs": [],
   "source": [
    "from sklearn.model_selection import train_test_split\n",
    "from sklearn import linear_model\n",
    "from sklearn.metrics import mean_squared_error"
   ]
  },
  {
   "cell_type": "markdown",
   "id": "dcf19125",
   "metadata": {},
   "source": [
    "Notice the reshaping done in the following step. It is necessary to use the linear models from sklearn."
   ]
  },
  {
   "cell_type": "code",
   "execution_count": 5,
   "id": "f40b3ebd",
   "metadata": {},
   "outputs": [],
   "source": [
    "x = data['B-V'].to_numpy().reshape(-1, 1)\n",
    "y = data['V'].to_numpy().reshape(-1, 1)\n",
    "\n",
    "x_train, x_test, y_train, y_test = train_test_split(x, y, random_state=42)"
   ]
  },
  {
   "cell_type": "markdown",
   "id": "ea76bdb8",
   "metadata": {},
   "source": [
    "Plot both the train and the test sample"
   ]
  },
  {
   "cell_type": "code",
   "execution_count": 6,
   "id": "02a68f7b",
   "metadata": {},
   "outputs": [],
   "source": [
    "# complete here"
   ]
  },
  {
   "cell_type": "markdown",
   "id": "278a6fb2",
   "metadata": {},
   "source": [
    "Now do the fit. Report the MSE for the train and the test."
   ]
  },
  {
   "cell_type": "code",
   "execution_count": 7,
   "id": "c456ae51",
   "metadata": {},
   "outputs": [
    {
     "name": "stdout",
     "output_type": "stream",
     "text": [
      "Test MSE =  0.39227736654044426\n"
     ]
    }
   ],
   "source": [
    "ols1 = linear_model.LinearRegression()\n",
    "linear = ols1.fit(x_train, y_train)\n",
    "# print the Train MSE\n",
    "print(\"Test MSE = \", mean_squared_error(y_test, linear.predict(x_test)))"
   ]
  },
  {
   "cell_type": "markdown",
   "id": "86bea452",
   "metadata": {},
   "source": [
    "Plot the train, test, and model."
   ]
  },
  {
   "cell_type": "code",
   "execution_count": 8,
   "id": "5b898898",
   "metadata": {},
   "outputs": [],
   "source": [
    "x_to_plot = np.linspace(-.2, 1.4, 20).reshape(-1, 1) # this will be useful to plot the model\n",
    "\n",
    "# complete the rest\n"
   ]
  },
  {
   "cell_type": "markdown",
   "id": "2f39cf0d",
   "metadata": {},
   "source": [
    "## 4. Fit a 2nd order polynomial.\n",
    "\n",
    "Here it's recommended to use `PolynomialFeatures` to build the design matrix automatically."
   ]
  },
  {
   "cell_type": "code",
   "execution_count": 9,
   "id": "c7f04740",
   "metadata": {},
   "outputs": [],
   "source": [
    "from sklearn.preprocessing import PolynomialFeatures"
   ]
  },
  {
   "cell_type": "markdown",
   "id": "19e7eb93",
   "metadata": {},
   "source": [
    "The following cell transforms the train and test sets into the right design matrix"
   ]
  },
  {
   "cell_type": "code",
   "execution_count": 10,
   "id": "3a078c7b",
   "metadata": {},
   "outputs": [],
   "source": [
    "poly2 = PolynomialFeatures(degree=2)\n",
    "x_train_2 = poly2.fit_transform(x_train)\n",
    "x_test_2 = poly2.fit_transform(x_test)"
   ]
  },
  {
   "cell_type": "markdown",
   "id": "907e42bf",
   "metadata": {},
   "source": [
    "Now we can fit the model just like before."
   ]
  },
  {
   "cell_type": "code",
   "execution_count": 11,
   "id": "10983207",
   "metadata": {},
   "outputs": [],
   "source": [
    "# Complete here to fit the model"
   ]
  },
  {
   "cell_type": "markdown",
   "id": "d0bd8dcc",
   "metadata": {},
   "source": [
    "And now plot the data and the 2nd order model."
   ]
  },
  {
   "cell_type": "code",
   "execution_count": 12,
   "id": "e1b9f2e7",
   "metadata": {},
   "outputs": [],
   "source": [
    "x_to_plot_2 = poly2.fit_transform(x_to_plot)  # We need to transform this too, to be able to use predict"
   ]
  },
  {
   "cell_type": "markdown",
   "id": "0e0e6e21",
   "metadata": {},
   "source": [
    "## 5. Keep increasing the order and decide when to stop\n",
    "\n",
    "Write a function that does all the previous steps at once and returns the `mean_squared_errors` for the training sample and for the testing sample.\n",
    "\n",
    "Plot the MSE as a function of the degree of the polynomial for the training sample and for the testing sample."
   ]
  },
  {
   "cell_type": "code",
   "execution_count": 13,
   "id": "78df1ccf",
   "metadata": {},
   "outputs": [],
   "source": [
    "def fit_model(degree, plot=True):\n",
    "    # Complete this funciton to make all the previous steps automatically.\n",
    "    pass"
   ]
  },
  {
   "cell_type": "markdown",
   "id": "10539c4e",
   "metadata": {},
   "source": [
    "Use the function to fit different degeree polynomials and store the MSE for the train and test datasets."
   ]
  },
  {
   "cell_type": "code",
   "execution_count": 14,
   "id": "e124d5fa",
   "metadata": {},
   "outputs": [],
   "source": [
    "# Complete here"
   ]
  },
  {
   "cell_type": "markdown",
   "id": "7189ef57",
   "metadata": {},
   "source": [
    "Plot the MSEs previously calculated"
   ]
  },
  {
   "cell_type": "code",
   "execution_count": 15,
   "id": "8ca5d028",
   "metadata": {},
   "outputs": [],
   "source": [
    "# plt.plot(mse_test)\n",
    "# plt.plot(mse_train)"
   ]
  }
 ],
 "metadata": {
  "kernelspec": {
   "display_name": "Python 3",
   "language": "python",
   "name": "python3"
  },
  "language_info": {
   "codemirror_mode": {
    "name": "ipython",
    "version": 3
   },
   "file_extension": ".py",
   "mimetype": "text/x-python",
   "name": "python",
   "nbconvert_exporter": "python",
   "pygments_lexer": "ipython3",
   "version": "3.8.5"
  }
 },
 "nbformat": 4,
 "nbformat_minor": 5
}
